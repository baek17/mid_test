{
 "cells": [
  {
   "cell_type": "code",
   "execution_count": 9,
   "metadata": {},
   "outputs": [],
   "source": [
    "import cv2\n",
    "import numpy as np"
   ]
  },
  {
   "cell_type": "code",
   "execution_count": null,
   "metadata": {},
   "outputs": [],
   "source": [
    "def draw_circle(event,x,y,flags,param):\n",
    "    if event == cv2.EVENT_MOUSEMOVE:\n",
    "        cv2.circle(img,(x,y),3,(255,255,255),2)\n",
    "        # 마우스를 움직일 때 흰색의 작은 원을 그림\n",
    "\n",
    "    elif event == cv2.EVENT_LBUTTONDBLCLK:\n",
    "        cv2.circle(img,(x,y),6,(255,0,0),2)\n",
    "        # 마우스 왼쪽 버튼을 더블 클릭할 때 파란색 원을 그림\n",
    "\n",
    "    elif event == cv2.EVENT_MBUTTONDCLK:\n",
    "        cv2.circle(img,(x,y),6,(0,255,0),2)\n",
    "        # 마우스 가운데 버튼을 더블 클릭할 때 초록색 원을 그림\n",
    "\n",
    "    elif event == cv2.EVENT_RBUTTONDCLK:\n",
    "        cv2.circle(img,(x,y),6,(0,0,255),2)\n",
    "        # 마우스 오른쪽 버튼을 더블 클릭할 때 빨간색 원을 그림\n",
    "\n",
    "img = np.zeros((512,512,3),np.uint8)    # 검은색 배경 이미지 생성\n",
    "cv2.namedWindow('image')\n",
    "cv2.setMouseCallback('image',draw_circle)   # 마우스 이벤트를 'draw_circle' 함수에 연결\n",
    "while(1):\n",
    "    cv2.imshow('image',img)\n",
    "    if cv2.waitKey(20) & 0xFF == 27:\n",
    "        break\n",
    "cv2.destroyAllWindows()"
   ]
  },
  {
   "cell_type": "code",
   "execution_count": null,
   "metadata": {},
   "outputs": [],
   "source": [
    "events = [i for i in dir(cv2) if 'EVENT' in i]\n",
    "print (events)"
   ]
  },
  {
   "cell_type": "code",
   "execution_count": null,
   "metadata": {},
   "outputs": [],
   "source": [
    "drawing = False # 마우스가 눌렸을 때 True로 설정됨 (그리기 시작 여부)\n",
    "mode = True # True일 경우 사각형을 그림, 'm' 키를 누르면 원 그리기로 전환\n",
    "ix,iy = -1,-1   # 마우스를 눌렀을 때의 초기 좌표 (-1은 초기 상태를 의미)\n",
    "\n",
    "# 마우스 콜백 함수 (마우스 이벤트 처리 함수)\n",
    "def draw_circle(event,x,y,flags,param):\n",
    "    global ix,iy,drawing,mode\n",
    "    if event == cv2.EVENT_LBUTTONDOWN:\n",
    "            drawing=True\n",
    "            ix,iy=x,y    # 마우스를 클릭한 좌표 저장\n",
    "    elif event == cv2.EVENT_MOUSEMOVE:\n",
    "        if drawing == True:\n",
    "            if mode == True:\n",
    "                cv2.rectangle(img,(ix,iy),(x,y),(0,255,0),-1)   # 직사각형 그리기\n",
    "            else:\n",
    "                cv2.circle(img,(x,y),5,(0,0,255),-1)    # 원 그리기\n",
    "    elif event == cv2.EVENT_LBUTTONUP:\n",
    "        drawing = False\n",
    "        if mode == True:\n",
    "            cv2.rectangle(img,(ix,iy),(x,y),(0,255,0),-1)   # 직사각형 그리기 완료\n",
    "        else:\n",
    "            cv2.circle(img,(x,y),5,(0,0,255),-1)    # 원 그리기 완료"
   ]
  },
  {
   "cell_type": "code",
   "execution_count": null,
   "metadata": {},
   "outputs": [],
   "source": [
    "img = np.zeros((512,512,3),np.uint8)\n",
    "cv2.namedWindow('image')\n",
    "cv2.setMouseCallback('image',draw_circle)\n",
    "while(1):\n",
    "    cv2.imshow('image',img)\n",
    "    k = cv2.waitKey(1) & 0xFF\n",
    "    if k == ord('m'):\n",
    "        mode = not mode  # 'm' 키를 누르면 직사각형과 원 모드를 전환\n",
    "    elif k == 27:\n",
    "        break\n",
    "cv2.destroyAllWindows()"
   ]
  }
 ],
 "metadata": {
  "kernelspec": {
   "display_name": "IP2024",
   "language": "python",
   "name": "python3"
  },
  "language_info": {
   "codemirror_mode": {
    "name": "ipython",
    "version": 3
   },
   "file_extension": ".py",
   "mimetype": "text/x-python",
   "name": "python",
   "nbconvert_exporter": "python",
   "pygments_lexer": "ipython3",
   "version": "3.8.19"
  }
 },
 "nbformat": 4,
 "nbformat_minor": 2
}
