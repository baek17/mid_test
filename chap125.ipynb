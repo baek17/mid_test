{
 "cells": [
  {
   "cell_type": "code",
   "execution_count": 3,
   "metadata": {},
   "outputs": [],
   "source": [
    "import cv2\n",
    "import numpy as np"
   ]
  },
  {
   "cell_type": "code",
   "execution_count": null,
   "metadata": {},
   "outputs": [],
   "source": [
    "def nothing(x):\n",
    "    pass\n",
    "#Createablackimage,awindow\n",
    "img = np.zeros((300,512,3),np.uint8)\n",
    "# 크기의 검정 이미지를 생성합니다. 이 이미지의 각 픽셀 값은 0으로 초기화되며\n",
    "# 이는 검정색을 나타냄\n",
    "cv2.namedWindow('image')\n",
    "\n",
    "# 색상 변경을 위한 트랙바를 생성\n",
    "cv2.createTrackbar('R','image',0,255,nothing)\n",
    "cv2.createTrackbar('G','image',0,255,nothing)\n",
    "cv2.createTrackbar('B','image',0,255,nothing)\n",
    "# nothing 함수가 콜백 함수로 지정\n",
    "\n",
    "# ON/OFF 기능을 위한 스위치 트랙바 생성\n",
    "switch = '0:OFF\\n1:ON'\n",
    "cv2.createTrackbar(switch,'image',0,1,nothing)\n",
    "\n",
    "while(1):   # 이미지 창을 계속해서 보여줌\n",
    "    cv2.imshow('image',img)\n",
    "\n",
    "    # 1ms 동안 키 입력을 대기하며, ESC 키(27)를 누르면 루프를 종료\n",
    "    k = cv2.waitKey(1) & 0xFF\n",
    "    if k == 27:\n",
    "        break\n",
    "\n",
    "    # 네 개의 트랙바에서 현재 값을 가져옴\n",
    "    r = cv2.getTrackbarPos('R','image')\n",
    "    g = cv2.getTrackbarPos('G','image')\n",
    "    b = cv2.getTrackbarPos('B','image')\n",
    "    s = cv2.getTrackbarPos(switch,'image')  # ON/OFF 스위치의 값\n",
    "    \n",
    "    # 스위치가 0이면 화면을 검정색으로 설정, 1이면 트랙바에서 선택된 색상을 반영\n",
    "    if s == 0:\n",
    "        img[:] = 0\n",
    "        \n",
    "\n",
    "    else:\n",
    "        img[:] = [b,g,r]\n",
    "        # 트랙바에서 가져온 RGB 값으로 이미지 색상 설정\n",
    "cv2.destroyAllWindows()"
   ]
  }
 ],
 "metadata": {
  "kernelspec": {
   "display_name": "IP2024",
   "language": "python",
   "name": "python3"
  },
  "language_info": {
   "codemirror_mode": {
    "name": "ipython",
    "version": 3
   },
   "file_extension": ".py",
   "mimetype": "text/x-python",
   "name": "python",
   "nbconvert_exporter": "python",
   "pygments_lexer": "ipython3",
   "version": "3.8.19"
  }
 },
 "nbformat": 4,
 "nbformat_minor": 2
}
