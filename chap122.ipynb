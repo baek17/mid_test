{
 "cells": [
  {
   "cell_type": "code",
   "execution_count": 1,
   "metadata": {},
   "outputs": [],
   "source": [
    "import numpy as np\n",
    "import cv2"
   ]
  },
  {
   "cell_type": "code",
   "execution_count": 2,
   "metadata": {},
   "outputs": [],
   "source": [
    "cap = cv2.VideoCapture(0)\n",
    "# 웹캠에서 비디오 스트림을 열기 위해 VideoCapture 객체를 생성\n",
    "# 인수 0은 기본 카메라를 의미 (다른 카메라를 사용하려면 1, 2 등의 숫자를 넣으면 됨)"
   ]
  },
  {
   "cell_type": "code",
   "execution_count": null,
   "metadata": {},
   "outputs": [],
   "source": [
    "while(True):    # 무한 루프를 통해 비디오의 프레임을 계속해서 읽어옴\n",
    "    ret, frame = cap.read()\n",
    "    # ret은 프레임을 성공적으로 읽었는지 여부\n",
    "    # frame은 읽은 프레임 데이터를 저장\n",
    "\n",
    "    gray = cv2.cvtColor(frame, cv2.COLOR_BGR2GRAY)\n",
    "    # cvtColor 함수를 사용해 읽어온 컬러 프레임을 그레이스케일로 변환\n",
    "    \n",
    "    cv2.imshow('frame',gray)\n",
    "    if cv2.waitKey(1) & 0xFF == ord('q'):\n",
    "        break\n",
    "# When everything done, release the capture\n",
    "cap.release()\n",
    "cv2.destroyAllWindows()"
   ]
  },
  {
   "cell_type": "code",
   "execution_count": null,
   "metadata": {},
   "outputs": [],
   "source": [
    "while(True):\n",
    "    ret, frame = cap.read()\n",
    "    # Our operations on the frame come here\n",
    "    # gray = cv2.cvtColor(frame, cv2.COLOR_BGR2GRAY)\n",
    "    # Display the resulting frame\n",
    "    cv2.imshow('frame',frame)\n",
    "    if cv2.waitKey(1) & 0xFF == ord('q'):\n",
    "        break\n",
    "# When everything done, release the capture\n",
    "cap.release()\n",
    "cv2.destroyAllWindows()"
   ]
  },
  {
   "cell_type": "code",
   "execution_count": null,
   "metadata": {},
   "outputs": [],
   "source": [
    "# 'BigBuckBunny.avi'라는 비디오 파일을 열어서 cap 객체로 저장\n",
    "cap = cv2.VideoCapture('BigBuckBunny.avi')\n",
    "\n",
    "while(cap.isOpened()):  # 비디오 파일이 열려 있는 동안 계속해서 프레임을 읽음\n",
    "    ret, frame = cap.read() # 비디오에서 한 프레임을 읽음\n",
    "    # ret가 True면 프레임을 성공적으로 읽은 것임\n",
    "    # frame은 읽은 이미지(프레임) 데이터\n",
    "    \n",
    "    # 프레임이 비었을 경우 루프를 중단 (비디오가 끝났을 때)\n",
    "    if not ret:\n",
    "        break\n",
    "\n",
    "    gray = cv2.cvtColor(frame, cv2.COLOR_BGR2GRAY)  # 컬러 프레임을 그레이스케일로 변환\n",
    "    cv2.imshow('frame', gray)   # 변환된 그레이스케일 프레임을 'frame' 윈도우에 표시\n",
    "    \n",
    "    # 1ms 대기 후 'q' 키가 눌리면 루프 종료 (비디오 재생 중단)\n",
    "    if cv2.waitKey(1) & 0xFF == ord('q'):\n",
    "        break\n",
    "\n",
    "cap.release()   # 비디오 캡처 객체 해제 (비디오 파일 사용 종료)\n",
    "cv2.destroyAllWindows() # 모든 OpenCV 윈도우 닫기"
   ]
  },
  {
   "cell_type": "code",
   "execution_count": null,
   "metadata": {},
   "outputs": [],
   "source": [
    "# 비디오 코덱을 정의하고 VideoWriter 객체를 생성\n",
    "# 'XVID' 코덱을 사용하여 'output.avi' 파일로 저장\n",
    "fourcc = cv2.VideoWriter_fourcc(*'XVID')\n",
    "# 코덱 정의 ('XVID' 사용하여 비디오 파일을 생성하는 데 필요한 포맷을 정의)\n",
    "out = cv2.VideoWriter('output.avi', fourcc, 20.0, (640, 480))\n",
    "# 'output.avi'라는 파일명으로 초당 20프레임, 해상도 640x480 비디오 파일을 생성\n",
    "\n",
    "while(cap.isOpened()):\n",
    "    # 한 프레임을 읽음\n",
    "    ret, frame = cap.read()\n",
    "    \n",
    "    # 프레임이 성공적으로 읽혔을 경우 (ret == True)\n",
    "    if ret == True:\n",
    "        # 프레임을 수직으로 뒤집음 (상하 반전)\n",
    "        frame = cv2.flip(frame, 0)\n",
    "        \n",
    "        # 뒤집힌 프레임을 비디오 파일에 저장 (출력 파일에 기록)\n",
    "        out.write(frame)\n",
    "        \n",
    "        # 현재 프레임을 화면에 보여줌\n",
    "        cv2.imshow('frame', frame)\n",
    "        \n",
    "        # 1ms 대기 후 'q' 키가 눌리면 루프를 종료 (비디오 재생 중단)\n",
    "        if cv2.waitKey(1) & 0xFF == ord('q'):\n",
    "            break\n",
    "    else:\n",
    "        # 더 이상 프레임이 없으면 루프 종료 (비디오 끝)\n",
    "        break\n",
    "\n",
    "# 비디오 캡처 객체와 VideoWriter 객체 모두 해제 (파일 사용 종료)\n",
    "cap.release()  # 비디오 캡처 객체 해제\n",
    "out.release()  # 비디오 쓰기 객체 해제\n",
    "cv2.destroyAllWindows() # 모든 OpenCV 윈도우 닫기\n"
   ]
  }
 ],
 "metadata": {
  "kernelspec": {
   "display_name": "IP2024",
   "language": "python",
   "name": "python3"
  },
  "language_info": {
   "codemirror_mode": {
    "name": "ipython",
    "version": 3
   },
   "file_extension": ".py",
   "mimetype": "text/x-python",
   "name": "python",
   "nbconvert_exporter": "python",
   "pygments_lexer": "ipython3",
   "version": "3.8.19"
  }
 },
 "nbformat": 4,
 "nbformat_minor": 2
}
