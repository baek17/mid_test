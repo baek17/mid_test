{
 "cells": [
  {
   "cell_type": "markdown",
   "metadata": {},
   "source": [
    "#### 1.3.2  Arithmetic Operations on Images"
   ]
  },
  {
   "cell_type": "code",
   "execution_count": 4,
   "metadata": {},
   "outputs": [],
   "source": [
    "import cv2\n",
    "import numpy as np\n",
    "from matplotlib import pyplot as plt"
   ]
  },
  {
   "cell_type": "code",
   "execution_count": 5,
   "metadata": {},
   "outputs": [],
   "source": [
    "img1 = cv2.imread('hero.png')\n",
    "img2 = cv2.imread('opencv.png')\n",
    "dst = cv2.addWeighted(img1,0.7,img2,0.3,0)\n",
    "# 두 이미지를 cv2.addWeighted 함수를 사용하여 합성\n",
    "# 가중치로 img1에 70%, img2에 30%를 부여하여 두 이미지를 블렌딩"
   ]
  },
  {
   "cell_type": "code",
   "execution_count": 6,
   "metadata": {},
   "outputs": [],
   "source": [
    "cv2.imshow('dst',dst)\n",
    "cv2.waitKey(0)\n",
    "cv2.destroyAllWindows()"
   ]
  },
  {
   "cell_type": "code",
   "execution_count": 7,
   "metadata": {},
   "outputs": [
    {
     "data": {
      "text/plain": [
       "-1"
      ]
     },
     "execution_count": 7,
     "metadata": {},
     "output_type": "execute_result"
    }
   ],
   "source": [
    "cv2.destroyAllWindows()\n",
    "\n",
    "cv2.waitKey(1)\n",
    "cv2.waitKey(1)\n",
    "cv2.waitKey(1)\n",
    "cv2.waitKey(1)\n",
    "cv2.waitKey(1)"
   ]
  },
  {
   "cell_type": "code",
   "execution_count": 8,
   "metadata": {},
   "outputs": [],
   "source": [
    "img1 = cv2.imread('hero.png')\n",
    "img2 = cv2.imread('opencv.png')\n",
    "\n",
    "rows,cols,channels = img2.shape\n",
    "roi = img1[0:rows, 0:cols ]"
   ]
  },
  {
   "cell_type": "code",
   "execution_count": 9,
   "metadata": {},
   "outputs": [],
   "source": [
    "img2gray = cv2.cvtColor(img2,cv2.COLOR_BGR2GRAY)\n",
    "ret, mask = cv2.threshold(img2gray, 10, 255, cv2.THRESH_BINARY)\n",
    "# cv2.threshold를 이용해 로고(img2)의 이진 마스크를 생성\n",
    "# 이를 img1의 해당 영역에 합성\n",
    "mask_inv = cv2.bitwise_not(mask)\n",
    "# mask_inv를 사용해 img1에서 로고 영역을 지우고, img2의 로고 부분만 합성"
   ]
  },
  {
   "cell_type": "code",
   "execution_count": 10,
   "metadata": {},
   "outputs": [],
   "source": [
    "# ROI(관심 영역)에서 로고 부분을 블랙아웃\n",
    "img1_bg = cv2.bitwise_and(roi,roi,mask = mask_inv)\n",
    "\n",
    "# 로고 이미지에서 로고 부분만 가져오기\n",
    "img2_fg = cv2.bitwise_and(img2,img2,mask = mask)"
   ]
  },
  {
   "cell_type": "code",
   "execution_count": 11,
   "metadata": {},
   "outputs": [],
   "source": [
    "# ROI(관심 영역)에 로고를 넣고 원본 이미지를 수정\n",
    "dst = cv2.add(img1_bg,img2_fg)\n",
    "\n",
    "# 수정된 ROI를 원본 이미지에 적용\n",
    "img1[0:rows, 0:cols ] = dst"
   ]
  },
  {
   "cell_type": "code",
   "execution_count": 12,
   "metadata": {},
   "outputs": [],
   "source": [
    "cv2.imshow('res',img1)\n",
    "cv2.waitKey(0)\n",
    "cv2.destroyAllWindows()"
   ]
  },
  {
   "cell_type": "code",
   "execution_count": 13,
   "metadata": {},
   "outputs": [
    {
     "name": "stdout",
     "output_type": "stream",
     "text": [
      "0.0007739\n"
     ]
    }
   ],
   "source": [
    "img1 = cv2.imread('hero.png')\n",
    "\n",
    "e1 = cv2.getTickCount() # 실행 시점을 기록하는 함수로, 시간 측정에 사용\n",
    "#  for i in range(5,49,2):\n",
    "img1 = cv2.medianBlur(img1,3)\n",
    "e2 = cv2.getTickCount() # 초당 틱 수를 반환하며, 이를 통해 처리 시간을 초 단위로 변환\n",
    "t = (e2- e1)/cv2.getTickFrequency()\n",
    "print (t)"
   ]
  },
  {
   "cell_type": "code",
   "execution_count": 14,
   "metadata": {},
   "outputs": [],
   "source": [
    "cv2.imshow('res',img1)\n",
    "cv2.waitKey(0)\n",
    "cv2.destroyAllWindows()"
   ]
  },
  {
   "cell_type": "code",
   "execution_count": 15,
   "metadata": {},
   "outputs": [],
   "source": [
    "img1 = cv2.imread('hero.png')\n"
   ]
  },
  {
   "cell_type": "code",
   "execution_count": 16,
   "metadata": {},
   "outputs": [],
   "source": [
    "mimg1 = cv2.medianBlur(img1,5)"
   ]
  },
  {
   "cell_type": "code",
   "execution_count": 17,
   "metadata": {},
   "outputs": [],
   "source": [
    "cv2.imshow('res',img1)\n",
    "cv2.waitKey(0)\n",
    "cv2.destroyAllWindows()"
   ]
  },
  {
   "cell_type": "code",
   "execution_count": 18,
   "metadata": {},
   "outputs": [],
   "source": [
    "import cv2\n",
    "import numpy as np"
   ]
  },
  {
   "cell_type": "code",
   "execution_count": 19,
   "metadata": {},
   "outputs": [],
   "source": [
    "img1 = cv2.imread('hero.png')\n",
    "def nothing(x):\n",
    "    pass"
   ]
  },
  {
   "cell_type": "code",
   "execution_count": null,
   "metadata": {},
   "outputs": [],
   "source": [
    "cv2.namedWindow('image')\n",
    "cv2.createTrackbar('median', 'image', 0, 10, nothing)\n",
    "# 'median'이라는 이름의 트랙바 생성, 초기값 0, 최대값 10\n",
    "\n",
    "mimg1 = img1    # 원본 이미지를 mimg1 변수에 저장\n",
    "while(1):\n",
    "    cv2.imshow('image',mimg1)\n",
    "    k = cv2.waitKey(1) & 0xFF\n",
    "    if k == 27:\n",
    "        break\n",
    "    # 현재 트랙바 위치 가져오기\n",
    "    m = cv2.getTrackbarPos('median','image')\n",
    "    # 트랙바 값에 따라 미디언 블러 적용\n",
    "    mimg1 = cv2.medianBlur(img1,2*m+1)\n",
    "\n",
    "cv2.destroyAllWindows()"
   ]
  },
  {
   "cell_type": "code",
   "execution_count": 21,
   "metadata": {},
   "outputs": [],
   "source": [
    "img1 = cv2.imread('hero.png')\n",
    "img2 = cv2.imread('opencv.png')\n"
   ]
  },
  {
   "cell_type": "code",
   "execution_count": null,
   "metadata": {},
   "outputs": [],
   "source": [
    "cv2.namedWindow('image')\n",
    "cv2.createTrackbar('add','image',0,100,nothing)\n",
    "\n",
    "dst = cv2.addWeighted(img1, 1.0, img2, 0.0, 0)\n",
    "# 두 이미지를 가중치 1.0과 0.0으로 합쳐서 초기 dst 이미지 생성\n",
    "\n",
    "while(1):\n",
    "    cv2.imshow('image',dst)\n",
    "    k = cv2.waitKey(1) & 0xFF\n",
    "    if k == 27:\n",
    "        break\n",
    "    w = cv2.getTrackbarPos('add','image')\n",
    "    dst = cv2.addWeighted(img1,1-w/100.,img2,w/100., 0)\n",
    "    # 트랙바 값에 따라 두 이미지의 가중치를 조절하여 dst 이미지 업데이트\n",
    "\n",
    "cv2.destroyAllWindows()"
   ]
  },
  {
   "cell_type": "code",
   "execution_count": null,
   "metadata": {},
   "outputs": [],
   "source": []
  }
 ],
 "metadata": {
  "kernelspec": {
   "display_name": "IP2024",
   "language": "python",
   "name": "python3"
  },
  "language_info": {
   "codemirror_mode": {
    "name": "ipython",
    "version": 3
   },
   "file_extension": ".py",
   "mimetype": "text/x-python",
   "name": "python",
   "nbconvert_exporter": "python",
   "pygments_lexer": "ipython3",
   "version": "3.8.19"
  }
 },
 "nbformat": 4,
 "nbformat_minor": 2
}
