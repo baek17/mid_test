{
 "cells": [
  {
   "cell_type": "markdown",
   "metadata": {},
   "source": [
    "##### Drawing Functions in OpenCV"
   ]
  },
  {
   "cell_type": "code",
   "execution_count": 101,
   "metadata": {},
   "outputs": [],
   "source": [
    "import numpy as np\n",
    "import cv2"
   ]
  },
  {
   "cell_type": "code",
   "execution_count": 102,
   "metadata": {},
   "outputs": [],
   "source": [
    "# 512x512 크기의 검은 배경(빈 이미지) 생성\n",
    "img = np.zeros((512,512,3), np.uint8)\n",
    "\n",
    "img = cv2.line(img,(0,0),(511,511),(255,0,0),5)\n",
    "# (0,0)에서 (511,511)까지 대각선으로 파란색(BGR: (255, 0, 0)) 선을 그리고\n",
    "# 두께는 5픽셀로 설정"
   ]
  },
  {
   "cell_type": "code",
   "execution_count": 103,
   "metadata": {},
   "outputs": [],
   "source": [
    "img = cv2.rectangle(img,(384,0),(510,128),(0,255,0),-1)\n",
    "# 왼쪽 상단이 (384,0), 오른쪽 하단이 (510,128)인 녹색(BGR: (0, 255, 0)) 사각형을 그림\n",
    "# -1은 사각형을 채우는 옵션"
   ]
  },
  {
   "cell_type": "code",
   "execution_count": 104,
   "metadata": {},
   "outputs": [],
   "source": [
    "img = cv2.circle(img,(447,63), 63, (0,0,255),3)\n",
    "# 중심이 (447,63)이고 반지름이 63인 빨간색(BGR: (0, 0, 255)) 원을 그림\n",
    "# 선의 두께는 3픽셀"
   ]
  },
  {
   "cell_type": "code",
   "execution_count": 105,
   "metadata": {},
   "outputs": [],
   "source": [
    "img = cv2.ellipse(img,(256,256),(100,50),0,0,180,255,5)\n",
    "# 중심이 (256, 256)인 타원형을 그림. 100과 50은 각각 타원의 가로, 세로 반지름이며, 0도에서 시작하여 180도까지 흰색(그레이스케일 255)의 타원을 그리고\n",
    "# 두께는 5픽셀"
   ]
  },
  {
   "cell_type": "code",
   "execution_count": 106,
   "metadata": {},
   "outputs": [],
   "source": [
    "img = cv2.circle(img,(66,63), 63, (0,0,255),3)\n",
    "# 중심이 (66,63)이고 반지름이 63인 또 다른 빨간색 원을 그림\n",
    "# 두께는 3픽셀"
   ]
  },
  {
   "cell_type": "code",
   "execution_count": 107,
   "metadata": {},
   "outputs": [],
   "source": [
    "cv2.imshow('image',img)\n",
    "k = cv2.waitKey(0)\n",
    "if k == 27:\n",
    "    # wait for ESC key to exit\n",
    "    cv2.destroyAllWindows()\n",
    "elif k == ord('s'): # wait for 's' key to save and exit\n",
    "    cv2.imwrite('messigray.png',img)\n",
    "    cv2.destroyAllWindows()"
   ]
  }
 ],
 "metadata": {
  "kernelspec": {
   "display_name": "IP2024",
   "language": "python",
   "name": "python3"
  },
  "language_info": {
   "codemirror_mode": {
    "name": "ipython",
    "version": 3
   },
   "file_extension": ".py",
   "mimetype": "text/x-python",
   "name": "python",
   "nbconvert_exporter": "python",
   "pygments_lexer": "ipython3",
   "version": "3.8.19"
  }
 },
 "nbformat": 4,
 "nbformat_minor": 2
}
