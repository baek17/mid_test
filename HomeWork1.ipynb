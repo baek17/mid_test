{
 "cells": [
  {
   "cell_type": "markdown",
   "metadata": {},
   "source": [
    "## HomeWork1\n",
    "#### 20221141 백채림\n",
    "유튜브 링크 https://youtu.be/v-Jpkmg49p0"
   ]
  },
  {
   "cell_type": "code",
   "execution_count": 78,
   "metadata": {},
   "outputs": [],
   "source": [
    "import cv2\n",
    "import numpy as np"
   ]
  },
  {
   "cell_type": "code",
   "execution_count": 79,
   "metadata": {},
   "outputs": [],
   "source": [
    "img1 = cv2.imread('mount.jpg')"
   ]
  },
  {
   "cell_type": "code",
   "execution_count": 80,
   "metadata": {},
   "outputs": [],
   "source": [
    "drawing = False # 드래그 중인지 여부를 나타내는 변수\n",
    "mode = True # 사각형을 그릴지 원으로 그릴지 결정하는 변수 True일 때는 사각형, False일 때는 원\n",
    "ix, iy = -1, -1 # 마우스 클릭 시의 좌표를 저장하는 변수\n",
    "font = cv2.FONT_HERSHEY_SIMPLEX\n",
    "color = (0, 0, 255) # RGB 값으로 (0, 0, 255)는 빨간색"
   ]
  },
  {
   "cell_type": "code",
   "execution_count": 81,
   "metadata": {},
   "outputs": [],
   "source": [
    "def draw_circle(event, x, y, flags, param): # 마우스 이벤트를 처리하는 함수\n",
    "    global ix, iy, drawing, mode, img1, color\n",
    "    \n",
    "    if event == cv2.EVENT_LBUTTONDOWN:  # 마우스 왼쪽 버튼 클릭 시 drawing을 True로 설정하고 클릭 위치를 저장\n",
    "        drawing = True\n",
    "        ix, iy = x, y\n",
    "    elif event == cv2.EVENT_MOUSEMOVE and drawing:  # 드래그 중에 마우스가 이동하면, 현재 마우스 좌표를 표시하고 선택된 도형을 그림\n",
    "        img = img1.copy()\n",
    "        cv2.putText(img, 'Mouse position: ({x},{y})', (10, 30), font, 0.6, (255, 255, 255), 2, cv2.LINE_AA)\n",
    "        if mode:\n",
    "            cv2.rectangle(img, (ix, iy), (x, y), color, -1)\n",
    "        else:\n",
    "            cv2.circle(img, (x, y), 5, color, -1)\n",
    "        cv2.imshow('image', img)\n",
    "    elif event == cv2.EVENT_LBUTTONUP:  # 마우스 버튼을 떼면 드래그를 종료하고 최종 도형을 이미지에 적용\n",
    "        drawing = False\n",
    "        if mode:\n",
    "            cv2.rectangle(img1, (ix, iy), (x, y), color, -1)\n",
    "        else:\n",
    "            cv2.circle(img1, (x, y), 5, color, -1)"
   ]
  },
  {
   "cell_type": "code",
   "execution_count": 82,
   "metadata": {},
   "outputs": [],
   "source": [
    "def nothing(x): # nothing : 트랙바의 콜백 함수\n",
    "    pass"
   ]
  },
  {
   "cell_type": "code",
   "execution_count": 83,
   "metadata": {},
   "outputs": [],
   "source": [
    "cv2.namedWindow('image')\n",
    "cv2.createTrackbar('median', 'image', 0, 10, nothing)   # 'median'이라는 이름의 트랙바를 생성하여, 값을 0에서 10까지 조정\n",
    "cv2.setMouseCallback('image', draw_circle)  # 마우스 이벤트를 처리할 함수로 draw_circle을 설정"
   ]
  },
  {
   "cell_type": "code",
   "execution_count": null,
   "metadata": {},
   "outputs": [],
   "source": [
    "# 트랙바의 현재 값을 읽어와서 median blur를 적용할지 결정\n",
    "while True:\n",
    "    m = cv2.getTrackbarPos('median', 'image')\n",
    "    mimg1 = img1.copy()\n",
    "    if m > 0:\n",
    "        mimg1 = cv2.medianBlur(img1, 2 * m + 1)\n",
    "\n",
    "    cv2.putText(mimg1, f'Mouse position: ({ix},{iy})', (10, 30), font, 1.0, (255, 255, 255), 2, cv2.LINE_AA)\n",
    "    cv2.imshow('image', mimg1)\n",
    "\n",
    "    k = cv2.waitKey(1) & 0xFF\n",
    "    if k == ord('m'):\n",
    "        mode = not mode\n",
    "        # 'm'을 누르면 도형 모드를 변경\n",
    "    elif k == 27:\n",
    "        break\n",
    "\n",
    "cv2.destroyAllWindows()"
   ]
  },
  {
   "cell_type": "code",
   "execution_count": null,
   "metadata": {},
   "outputs": [],
   "source": []
  }
 ],
 "metadata": {
  "kernelspec": {
   "display_name": "IP2024",
   "language": "python",
   "name": "python3"
  },
  "language_info": {
   "codemirror_mode": {
    "name": "ipython",
    "version": 3
   },
   "file_extension": ".py",
   "mimetype": "text/x-python",
   "name": "python",
   "nbconvert_exporter": "python",
   "pygments_lexer": "ipython3",
   "version": "3.8.19"
  }
 },
 "nbformat": 4,
 "nbformat_minor": 2
}
